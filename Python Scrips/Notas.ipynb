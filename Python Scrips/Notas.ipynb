{
 "cells": [
  {
   "attachments": {},
   "cell_type": "markdown",
   "metadata": {},
   "source": [
    "Notas incicales sobre el lenguaje Python\n",
    "\n",
    "\n",
    "Tipos Variables\n",
    "\n",
    "enteros 64 bits\n",
    "flotante IEEE 64 bits\n",
    "cadenas de texto\n"
   ]
  },
  {
   "cell_type": "code",
   "execution_count": 7,
   "metadata": {},
   "outputs": [
    {
     "name": "stdout",
     "output_type": "stream",
     "text": [
      "<class 'int'>\n",
      "<class 'float'>\n",
      "<class 'str'>\n"
     ]
    }
   ],
   "source": [
    "VariableEntera = 43\n",
    "VariableFlotante = 3.1416\n",
    "VariableTexto = \" Esto es una cadena de texto \"\n",
    "\n",
    "print(type(VariableEntera))\n",
    "print(type(VariableFlotante))\n",
    "print(type(VariableTexto))\n"
   ]
  },
  {
   "attachments": {},
   "cell_type": "markdown",
   "metadata": {},
   "source": [
    "La variables pueden cambiar el tipo del que son"
   ]
  },
  {
   "cell_type": "code",
   "execution_count": 9,
   "metadata": {},
   "outputs": [
    {
     "name": "stdout",
     "output_type": "stream",
     "text": [
      "45.52\n",
      "<class 'float'>\n"
     ]
    }
   ],
   "source": [
    "VariableEntera += 1.52\n",
    "print(VariableEntera)\n",
    "print(type(VariableEntera))\n"
   ]
  },
  {
   "attachments": {},
   "cell_type": "markdown",
   "metadata": {},
   "source": [
    "En el lenguaje python es muy importante la indexación, eso significa que no se usa llaves para introducir segementos de código\n",
    "\n",
    "en C++\n",
    "if(condicion){\n",
    "\n",
    "}\n",
    "en pytho9n en cambio la forma es:"
   ]
  },
  {
   "cell_type": "code",
   "execution_count": 13,
   "metadata": {},
   "outputs": [
    {
     "name": "stdout",
     "output_type": "stream",
     "text": [
      "No eres mayor de edad\n",
      "Pero da gracias que no conoces al SAT\n"
     ]
    }
   ],
   "source": [
    "edad = 11\n",
    "\n",
    "if edad >= 18:\n",
    "    print(\"Felicidades eres mayor de edad puedes votar\")\n",
    "    print(\"Piensa bien tu voto\")\n",
    "    print(\"Es libre y secreto\")\n",
    "else:\n",
    "    print(\"No eres mayor de edad\")\n",
    "    print(\"Pero da gracias que no conoces al SAT\")\n"
   ]
  },
  {
   "attachments": {},
   "cell_type": "markdown",
   "metadata": {},
   "source": [
    "En lenguajes compilados se crean los vectores o arreglos de datos,\n",
    "en python vamos a tener principalmente tres tipos de arrglos de datos\n",
    "\n",
    "int A[10]; // A se combierte en un arreglo de 10 datos\n",
    "\n",
    "en python vamos a tener 34 principales tipos de arreglos\n",
    "\n",
    "LISTAS"
   ]
  },
  {
   "cell_type": "code",
   "execution_count": 16,
   "metadata": {},
   "outputs": [
    {
     "name": "stdout",
     "output_type": "stream",
     "text": [
      "<class 'list'>\n",
      "[1, 2, 3, 4, 5, 6, 7, 8, 9, 10]\n",
      "10\n"
     ]
    }
   ],
   "source": [
    "listaObjetos = [1,2,3,4,5,6,7,8,9,10]\n",
    "print(type(listaObjetos))\n",
    "\n",
    "print(listaObjetos)\n",
    "print(len(listaObjetos))"
   ]
  },
  {
   "attachments": {},
   "cell_type": "markdown",
   "metadata": {},
   "source": [
    "Agregar datos a una lista"
   ]
  },
  {
   "cell_type": "code",
   "execution_count": 17,
   "metadata": {},
   "outputs": [
    {
     "name": "stdout",
     "output_type": "stream",
     "text": [
      "11\n",
      "[1, 2, 3, 4, 5, 6, 7, 8, 9, 10, 11]\n"
     ]
    }
   ],
   "source": [
    "listaObjetos.append(11)\n",
    "print(len(listaObjetos))\n",
    "print(listaObjetos)"
   ]
  },
  {
   "attachments": {},
   "cell_type": "markdown",
   "metadata": {},
   "source": [
    "Una lista no esta conformada por un solo tipo de datos\n"
   ]
  },
  {
   "cell_type": "code",
   "execution_count": 18,
   "metadata": {},
   "outputs": [
    {
     "name": "stdout",
     "output_type": "stream",
     "text": [
      "16\n",
      "[1, 2, 3, 4, 5, 6, 7, 8, 9, 10, 11, 12.1, 12.2, 12.3, 12.4, 'Texto']\n"
     ]
    }
   ],
   "source": [
    "listaObjetos.append(12.1)\n",
    "listaObjetos.append(12.2)\n",
    "listaObjetos.append(12.3)\n",
    "listaObjetos.append(12.4)\n",
    "listaObjetos.append(\"Texto\")\n",
    "\n",
    "print(len(listaObjetos))\n",
    "\n",
    "print(listaObjetos)"
   ]
  },
  {
   "attachments": {},
   "cell_type": "markdown",
   "metadata": {},
   "source": [
    "Para acceder a los elementos se utiliza el identificador y dentro corchetes el indice del elemento a utilizar\n"
   ]
  },
  {
   "cell_type": "code",
   "execution_count": 21,
   "metadata": {},
   "outputs": [
    {
     "name": "stdout",
     "output_type": "stream",
     "text": [
      "2\n",
      "<class 'int'>\n"
     ]
    }
   ],
   "source": [
    "print(listaObjetos[1])\n",
    "print(type(listaObjetos[1]))"
   ]
  },
  {
   "attachments": {},
   "cell_type": "markdown",
   "metadata": {},
   "source": [
    "Otra forma de agrupar los dartos son las TUPLAS"
   ]
  },
  {
   "cell_type": "code",
   "execution_count": 25,
   "metadata": {},
   "outputs": [
    {
     "name": "stdout",
     "output_type": "stream",
     "text": [
      "<class 'tuple'>\n",
      "(1080, 720, 'P2')\n"
     ]
    }
   ],
   "source": [
    "objetos = (1080,720,\"P2\")\n",
    "print(type(objetos))\n",
    "print(objetos)"
   ]
  },
  {
   "attachments": {},
   "cell_type": "markdown",
   "metadata": {},
   "source": [
    "A difencia de la lista, el tamaño y los datos de la tupla ya no se pueden modificar"
   ]
  },
  {
   "cell_type": "code",
   "execution_count": 31,
   "metadata": {},
   "outputs": [
    {
     "name": "stdout",
     "output_type": "stream",
     "text": [
      "1080\n"
     ]
    }
   ],
   "source": [
    "print(objetos[0])\n",
    "# objetos[0] = 620"
   ]
  },
  {
   "attachments": {},
   "cell_type": "markdown",
   "metadata": {},
   "source": [
    "Diccionarios"
   ]
  },
  {
   "cell_type": "code",
   "execution_count": 36,
   "metadata": {},
   "outputs": [
    {
     "name": "stdout",
     "output_type": "stream",
     "text": [
      "La guia del autoestopista intergalactico\n"
     ]
    }
   ],
   "source": [
    "Diccionario1 = {\"Juego de Tronos\":\"Cantar de fuego y Hielo\",\"Sinsajo\":\"Juegos de hambre\", \"El caliz de fuego\":\"Harry Potter\", \"PI\":3.1416, 42:\"La guia del autoestopista intergalactico\"}\n",
    "\n",
    "print(Diccionario1[42])"
   ]
  },
  {
   "attachments": {},
   "cell_type": "markdown",
   "metadata": {},
   "source": [
    "Para utilizar módulos en puython se usa la palabra reservada import"
   ]
  },
  {
   "cell_type": "code",
   "execution_count": 46,
   "metadata": {},
   "outputs": [
    {
     "name": "stdout",
     "output_type": "stream",
     "text": [
      "-1.0\n"
     ]
    },
    {
     "data": {
      "image/png": "[encoded data removed]",
      "text/plain": [
       "<Figure size 640x480 with 1 Axes>"
      ]
     },
     "metadata": {},
     "output_type": "display_data"
    }
   ],
   "source": [
    "import numpy as np\n",
    "from matplotlib import pyplot as plt\n",
    "\n",
    "print(np.cos(np.pi))\n",
    "\n",
    "t = range(0,100)\n",
    "F = []\n",
    "FC = []\n",
    "for i in t:\n",
    "    F.append(np.sin(2*np.pi*i/10))\n",
    "    FC.append(np.cos(2*np.pi*i/10))\n",
    "plt.plot(t,F)\n",
    "plt.plot(t,FC)\n",
    "plt.show()\n"
   ]
  },
  {
   "attachments": {},
   "cell_type": "markdown",
   "metadata": {},
   "source": [
    "los elementos iterativo y ciclo for"
   ]
  },
  {
   "cell_type": "code",
   "execution_count": 50,
   "metadata": {},
   "outputs": [
    {
     "name": "stdout",
     "output_type": "stream",
     "text": [
      "1\n",
      "2\n",
      "3\n",
      "4\n",
      "5\n",
      "6\n",
      "7\n",
      "8\n",
      "9\n",
      "10\n",
      "11\n",
      "12.1\n",
      "12.2\n",
      "12.3\n",
      "12.4\n",
      "Texto\n"
     ]
    }
   ],
   "source": [
    "for objeto in listaObjetos:\n",
    "    print(objeto) # ListaObjetos[i]\n",
    "# for i in range(len(listaObjetos)-1, -1,-1):\n",
    "#     print(listaObjetos[i])"
   ]
  },
  {
   "cell_type": "code",
   "execution_count": 54,
   "metadata": {},
   "outputs": [
    {
     "name": "stdout",
     "output_type": "stream",
     "text": [
      "Teclea una letra\n",
      "no tecleaste una letra\n"
     ]
    }
   ],
   "source": [
    "variable = \" \"\n",
    "print(\"Teclea una letra\")\n",
    "input(str(variable))\n",
    "\n",
    "if variable == \"A\":\n",
    "    print(\"Tecleaste la letra A mayuscula\")\n",
    "elif variable == \"a\":\n",
    "    print(\"Tecleaste la letra a minuscula\")\n",
    "else:\n",
    "    print(\"no tecleaste una letra\")\n",
    "\n"
   ]
  }
 ],
 "metadata": {
  "kernelspec": {
   "display_name": "Python 3",
   "language": "python",
   "name": "python3"
  },
  "language_info": {
   "codemirror_mode": {
    "name": "ipython",
    "version": 3
   },
   "file_extension": ".py",
   "mimetype": "text/x-python",
   "name": "python",
   "nbconvert_exporter": "python",
   "pygments_lexer": "ipython3",
   "version": "3.11.1"
  },
  "orig_nbformat": 4
 },
 "nbformat": 4,
 "nbformat_minor": 2
}
